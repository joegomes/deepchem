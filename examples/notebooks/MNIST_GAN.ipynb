{
 "cells": [
  {
   "cell_type": "markdown",
   "metadata": {},
   "source": [
    "MNIST GAN\n",
    "---------\n",
    "\n",
    "In this example, we will train a Generative Adversarial Network (GAN) on the MNIST dataset.  This is a large collection of 28x28 pixel images of handwritten digits.  We will try to train a network to produce new images of handwritten digits.\n",
    "\n",
    "To begin, let's import all the libraries we'll need and load the dataset (which comes bundled with Tensorflow)."
   ]
  },
  {
   "cell_type": "code",
   "execution_count": 2,
   "metadata": {},
   "outputs": [
    {
     "name": "stdout",
     "output_type": "stream",
     "text": [
      "Extracting MNIST_data/train-images-idx3-ubyte.gz\n",
      "Extracting MNIST_data/train-labels-idx1-ubyte.gz\n",
      "Extracting MNIST_data/t10k-images-idx3-ubyte.gz\n",
      "Extracting MNIST_data/t10k-labels-idx1-ubyte.gz\n"
     ]
    }
   ],
   "source": [
    "import deepchem as dc\n",
    "import tensorflow as tf\n",
    "from deepchem.models.optimizers import ExponentialDecay\n",
    "from tensorflow.keras.layers import Conv2D, Conv2DTranspose, Dense, Reshape\n",
    "from tensorflow.examples.tutorials.mnist import input_data\n",
    "import matplotlib.pyplot as plot\n",
    "import matplotlib.gridspec as gridspec\n",
    "%matplotlib inline\n",
    "\n",
    "mnist = input_data.read_data_sets('MNIST_data', one_hot=True)\n",
    "images = mnist.train.images.reshape((-1, 28, 28, 1))\n",
    "dataset = dc.data.NumpyDataset(images)"
   ]
  },
  {
   "cell_type": "markdown",
   "metadata": {},
   "source": [
    "Let's view some of the images to get an idea of what they look like."
   ]
  },
  {
   "cell_type": "code",
   "execution_count": 3,
   "metadata": {},
   "outputs": [
    {
     "data": {
      "image/png": "[encoded data removed]",
      "text/plain": [
       "<Figure size 216x216 with 16 Axes>"
      ]
     },
     "metadata": {},
     "output_type": "display_data"
    }
   ],
   "source": [
    "def plot_digits(im):\n",
    "  plot.figure(figsize=(3, 3))\n",
    "  grid = gridspec.GridSpec(4, 4, wspace=0.05, hspace=0.05)\n",
    "  for i, g in enumerate(grid):\n",
    "    ax = plot.subplot(g)\n",
    "    ax.set_xticks([])\n",
    "    ax.set_yticks([])\n",
    "    ax.imshow(im[i,:,:,0], cmap='gray')\n",
    "\n",
    "plot_digits(images)"
   ]
  },
  {
   "cell_type": "markdown",
   "metadata": {},
   "source": [
    "Now we can create our GAN.  It consists of two parts:\n",
    "\n",
    "1. The generator takes random noise as its input and produces output that will hopefully resemble the training data.\n",
    "2. The discriminator takes a set of samples as input (possibly training data, possibly created by the generator), and tries to determine which are which.  Its output is interpreted as a measure of how likely it is that each sample is from the training set."
   ]
  },
  {
   "cell_type": "code",
   "execution_count": 5,
   "metadata": {
    "scrolled": true
   },
   "outputs": [],
   "source": [
    "class DigitGAN(dc.models.WGAN):\n",
    "\n",
    "  def get_noise_input_shape(self):\n",
    "    return (10,)\n",
    "\n",
    "  def get_data_input_shapes(self):\n",
    "    return [(28, 28, 1)]\n",
    "\n",
    "  def create_generator(self):\n",
    "    return tf.keras.Sequential([\n",
    "        Dense(7*7*8, activation=tf.nn.relu),\n",
    "        Reshape((7, 7, 8)),\n",
    "        Conv2DTranspose(filters=16, kernel_size=5, strides=2, activation=tf.nn.relu, padding='same'),\n",
    "        Conv2DTranspose(filters=1, kernel_size=5, strides=2, activation=tf.sigmoid, padding='same')\n",
    "    ])\n",
    "\n",
    "  def create_discriminator(self):\n",
    "    return tf.keras.Sequential([\n",
    "        Conv2D(filters=32, kernel_size=5, strides=2, activation=tf.nn.leaky_relu, padding='same'),\n",
    "        Conv2D(filters=64, kernel_size=5, strides=2, activation=tf.nn.leaky_relu, padding='same'),\n",
    "        Dense(1, activation=tf.math.softplus)\n",
    "    ])\n",
    "\n",
    "gan = DigitGAN(learning_rate=ExponentialDecay(0.001, 0.9, 5000))"
   ]
  },
  {
   "cell_type": "markdown",
   "metadata": {},
   "source": [
    "Now to train it.  The generator and discriminator are both trained together.  The generator tries to get better at fooling the discriminator, while the discriminator tries to get better at distinguishing real data from generated data (which in turn gives the generator a better training signal to learn from)."
   ]
  },
  {
   "cell_type": "code",
   "execution_count": 7,
   "metadata": {},
   "outputs": [
    {
     "name": "stdout",
     "output_type": "stream",
     "text": [
      "Ending global_step 6508: generator average loss 0.478968, discriminator average loss 0.47897\n",
      "Ending global_step 11508: generator average loss 0.526329, discriminator average loss 0.52613\n",
      "Ending global_step 16508: generator average loss 0.61444, discriminator average loss 0.614101\n",
      "Ending global_step 21508: generator average loss 0.591739, discriminator average loss 0.591466\n",
      "Ending global_step 26508: generator average loss 0.56283, discriminator average loss 0.562656\n",
      "Ending global_step 31508: generator average loss 0.538769, discriminator average loss 0.538729\n",
      "Ending global_step 36508: generator average loss 0.536539, discriminator average loss 0.53636\n",
      "Ending global_step 41508: generator average loss 0.53402, discriminator average loss 0.533926\n",
      "Ending global_step 46508: generator average loss 0.536422, discriminator average loss 0.536265\n",
      "Ending global_step 51508: generator average loss 0.530185, discriminator average loss 0.530161\n",
      "Ending global_step 56508: generator average loss 0.506654, discriminator average loss 0.506663\n",
      "TIMING: model fitting took 198.872 s\n"
     ]
    }
   ],
   "source": [
    "def iterbatches(epochs):\n",
    "  for i in range(epochs):\n",
    "    for batch in dataset.iterbatches(batch_size=gan.batch_size):\n",
    "      yield {gan.data_inputs[0]: batch[0]}\n",
    "\n",
    "gan.fit_gan(iterbatches(100), generator_steps=0.2, checkpoint_interval=5000)"
   ]
  },
  {
   "cell_type": "markdown",
   "metadata": {},
   "source": [
    "Let's generate some data and see how the results look."
   ]
  },
  {
   "cell_type": "code",
   "execution_count": 9,
   "metadata": {},
   "outputs": [
    {
     "data": {
      "image/png": "[encoded data removed]",
      "text/plain": [
       "<Figure size 216x216 with 16 Axes>"
      ]
     },
     "metadata": {},
     "output_type": "display_data"
    }
   ],
   "source": [
    "plot_digits(gan.predict_gan_generator(batch_size=16))"
   ]
  },
  {
   "cell_type": "markdown",
   "metadata": {},
   "source": [
    "Not too bad.  Many of the generated images look plausibly like handwritten digits.  A larger model trained for a longer time can do much better, of course."
   ]
  }
 ],
 "metadata": {
  "kernelspec": {
   "display_name": "Python 3",
   "language": "python",
   "name": "python3"
  },
  "language_info": {
   "codemirror_mode": {
    "name": "ipython",
    "version": 3
   },
   "file_extension": ".py",
   "mimetype": "text/x-python",
   "name": "python",
   "nbconvert_exporter": "python",
   "pygments_lexer": "ipython3",
   "version": "3.6.8"
  }
 },
 "nbformat": 4,
 "nbformat_minor": 2
}
